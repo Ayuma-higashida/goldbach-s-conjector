{
  "nbformat": 4,
  "nbformat_minor": 0,
  "metadata": {
    "colab": {
      "name": "ゴールドバッハ予想　本家　xが奇素数・yが奇数",
      "provenance": [],
      "collapsed_sections": [],
      "include_colab_link": true
    },
    "kernelspec": {
      "name": "python3",
      "display_name": "Python 3"
    },
    "language_info": {
      "name": "python"
    }
  },
  "cells": [
    {
      "cell_type": "markdown",
      "metadata": {
        "id": "view-in-github",
        "colab_type": "text"
      },
      "source": [
        "<a href=\"https://colab.research.google.com/github/Ayuma-higashida/goldbach-s-conjector/blob/main/%E3%82%B4%E3%83%BC%E3%83%AB%E3%83%89%E3%83%90%E3%83%83%E3%83%8F%E4%BA%88%E6%83%B3%E3%80%80%E6%9C%AC%E5%AE%B6%E3%80%80x%E3%81%8C%E5%A5%87%E7%B4%A0%E6%95%B0%E3%83%BBy%E3%81%8C%E5%A5%87%E6%95%B0.ipynb\" target=\"_parent\"><img src=\"https://colab.research.google.com/assets/colab-badge.svg\" alt=\"Open In Colab\"/></a>"
      ]
    },
    {
      "cell_type": "code",
      "metadata": {
        "colab": {
          "base_uri": "https://localhost:8080/",
          "height": 526
        },
        "id": "FxC9ANzjcC-A",
        "outputId": "60f8885c-f2bc-4338-dd89-75ba34990f41"
      },
      "source": [
        "min = 8 #ここには偶数を入れる\n",
        "max = 20\n",
        "odd_prime = []\n",
        "for i in range(3,max+1,2):\n",
        "    for j in range(3,i,2):\n",
        "        if i % j ==0:\n",
        "            break\n",
        "    else:\n",
        "        odd_prime.append(i)\n",
        "print(odd_prime,len(odd_prime))\n",
        "\n",
        "for num in range(min,max+1,2):\n",
        "    print(num)\n",
        "    i=0\n",
        "    while odd_prime[i]<num:\n",
        "        print('(',odd_prime[i],',',num-odd_prime[i],')',end='')\n",
        "        i+=1\n",
        "    print('')"
      ],
      "execution_count": null,
      "outputs": [
        {
          "output_type": "stream",
          "name": "stdout",
          "text": [
            "[3, 5, 7, 11, 13, 17, 19] 7\n",
            "8\n",
            "( 3 , 5 )( 5 , 3 )( 7 , 1 )\n",
            "10\n",
            "( 3 , 7 )( 5 , 5 )( 7 , 3 )\n",
            "12\n",
            "( 3 , 9 )( 5 , 7 )( 7 , 5 )( 11 , 1 )\n",
            "14\n",
            "( 3 , 11 )( 5 , 9 )( 7 , 7 )( 11 , 3 )( 13 , 1 )\n",
            "16\n",
            "( 3 , 13 )( 5 , 11 )( 7 , 9 )( 11 , 5 )( 13 , 3 )\n",
            "18\n",
            "( 3 , 15 )( 5 , 13 )( 7 , 11 )( 11 , 7 )( 13 , 5 )( 17 , 1 )\n",
            "20\n",
            "( 3 , 17 )( 5 , 15 )( 7 , 13 )( 11 , 9 )( 13 , 7 )( 17 , 3 )( 19 , 1 )"
          ]
        },
        {
          "output_type": "error",
          "ename": "IndexError",
          "evalue": "ignored",
          "traceback": [
            "\u001b[0;31m---------------------------------------------------------------------------\u001b[0m",
            "\u001b[0;31mIndexError\u001b[0m                                Traceback (most recent call last)",
            "\u001b[0;32m<ipython-input-2-88e9d854a978>\u001b[0m in \u001b[0;36m<module>\u001b[0;34m()\u001b[0m\n\u001b[1;32m     13\u001b[0m     \u001b[0mprint\u001b[0m\u001b[0;34m(\u001b[0m\u001b[0mnum\u001b[0m\u001b[0;34m)\u001b[0m\u001b[0;34m\u001b[0m\u001b[0;34m\u001b[0m\u001b[0m\n\u001b[1;32m     14\u001b[0m     \u001b[0mi\u001b[0m\u001b[0;34m=\u001b[0m\u001b[0;36m0\u001b[0m\u001b[0;34m\u001b[0m\u001b[0;34m\u001b[0m\u001b[0m\n\u001b[0;32m---> 15\u001b[0;31m     \u001b[0;32mwhile\u001b[0m \u001b[0modd_prime\u001b[0m\u001b[0;34m[\u001b[0m\u001b[0mi\u001b[0m\u001b[0;34m]\u001b[0m\u001b[0;34m<\u001b[0m\u001b[0mnum\u001b[0m\u001b[0;34m:\u001b[0m\u001b[0;34m\u001b[0m\u001b[0;34m\u001b[0m\u001b[0m\n\u001b[0m\u001b[1;32m     16\u001b[0m         \u001b[0mprint\u001b[0m\u001b[0;34m(\u001b[0m\u001b[0;34m'('\u001b[0m\u001b[0;34m,\u001b[0m\u001b[0modd_prime\u001b[0m\u001b[0;34m[\u001b[0m\u001b[0mi\u001b[0m\u001b[0;34m]\u001b[0m\u001b[0;34m,\u001b[0m\u001b[0;34m','\u001b[0m\u001b[0;34m,\u001b[0m\u001b[0mnum\u001b[0m\u001b[0;34m-\u001b[0m\u001b[0modd_prime\u001b[0m\u001b[0;34m[\u001b[0m\u001b[0mi\u001b[0m\u001b[0;34m]\u001b[0m\u001b[0;34m,\u001b[0m\u001b[0;34m')'\u001b[0m\u001b[0;34m,\u001b[0m\u001b[0mend\u001b[0m\u001b[0;34m=\u001b[0m\u001b[0;34m''\u001b[0m\u001b[0;34m)\u001b[0m\u001b[0;34m\u001b[0m\u001b[0;34m\u001b[0m\u001b[0m\n\u001b[1;32m     17\u001b[0m         \u001b[0mi\u001b[0m\u001b[0;34m+=\u001b[0m\u001b[0;36m1\u001b[0m\u001b[0;34m\u001b[0m\u001b[0;34m\u001b[0m\u001b[0m\n",
            "\u001b[0;31mIndexError\u001b[0m: list index out of range"
          ]
        }
      ]
    },
    {
      "cell_type": "code",
      "metadata": {
        "colab": {
          "base_uri": "https://localhost:8080/"
        },
        "id": "LstxdyAXg1Fv",
        "outputId": "ce82c290-b7c3-470c-ec1c-0aeafae15a26"
      },
      "source": [
        "min = 8 #ここには偶数を入れる\n",
        "max = 20\n",
        "odd_prime = []\n",
        "for i in range(3,max+1,2):\n",
        "    for j in range(3,i,2):\n",
        "        if i % j ==0:\n",
        "            break\n",
        "    else:\n",
        "        odd_prime.append(i)\n",
        "print(odd_prime,len(odd_prime))\n",
        "\n",
        "for num in range(min,max+1,2):\n",
        "    print(num)\n",
        "    i=0\n",
        "    while 2*odd_prime[i]<=num:\n",
        "        if (num-odd_prime[i]) in odd_prime:\n",
        "            print('(',odd_prime[i],',',num-odd_prime[i],')',end='')\n",
        "        i+=1\n",
        "    print('')"
      ],
      "execution_count": null,
      "outputs": [
        {
          "output_type": "stream",
          "text": [
            "[3, 5, 7, 11, 13, 17, 19] 7\n",
            "8\n",
            "( 3 , 5 )\n",
            "10\n",
            "( 3 , 7 )( 5 , 5 )\n",
            "12\n",
            "( 5 , 7 )\n",
            "14\n",
            "( 3 , 11 )( 7 , 7 )\n",
            "16\n",
            "( 3 , 13 )( 5 , 11 )\n",
            "18\n",
            "( 5 , 13 )( 7 , 11 )\n",
            "20\n",
            "( 3 , 17 )( 7 , 13 )\n"
          ],
          "name": "stdout"
        }
      ]
    }
  ]
}